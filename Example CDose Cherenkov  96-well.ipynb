{
 "cells": [
  {
   "cell_type": "code",
   "execution_count": 1,
   "metadata": {
    "collapsed": false
   },
   "outputs": [],
   "source": [
    "# File system interaction\n",
    "import os\n",
    "\n",
    "# Numerical analysis\n",
    "import numpy\n",
    "import pandas\n",
    "from scipy.optimize import curve_fit\n",
    "\n",
    "#Graphing\n",
    "import matplotlib\n",
    "import matplotlib.patches as mpatches\n",
    "import matplotlib.pyplot as plt\n",
    "plt.rcParams[\"font.family\"] = \"Times New Roman\"\n",
    "color_map = plt.get_cmap('viridis')\n",
    "%matplotlib inline\n",
    "\n",
    "#Image analysis\n",
    "import skimage\n",
    "from skimage import io\n",
    "from skimage.filters import threshold_otsu\n",
    "from skimage.filters.rank import median\n",
    "from skimage.segmentation import clear_border\n",
    "from skimage.measure import label, regionprops\n",
    "from skimage.morphology import binary_closing, closing, square, disk\n",
    "from skimage.color import label2rgb"
   ]
  },
  {
   "cell_type": "code",
   "execution_count": 2,
   "metadata": {
    "collapsed": true
   },
   "outputs": [],
   "source": [
    "def split_line_to_dict(line, output_dict, delim='='):\n",
    "    ''' Function to convert line of text into key value pair'''\n",
    "    split_line = line.split(delim)\n",
    "    if len(split_line)==2:\n",
    "        key = split_line[0].strip()\n",
    "        value = split_line[1].strip()\n",
    "        output_dict[key] = value\n",
    "    return output_dict\n",
    "\n",
    "def read_dovi(file):\n",
    "    ''' Function to read CDose metadata'''\n",
    "    dovi_data = {}\n",
    "    new_file = \"{}.new\".format(file)\n",
    "    with open(file, \"r\") as f:\n",
    "        file_content = f.readlines()\n",
    "    # Remove extra white spaces an beginning or end of each line\n",
    "    file_content = [x.strip() for x in file_content] \n",
    "    for each_line in file_content:\n",
    "        dovi_data = split_line_to_dict(each_line, dovi_data)\n",
    "    return dovi_data\n"
   ]
  },
  {
   "cell_type": "code",
   "execution_count": 3,
   "metadata": {
    "collapsed": false
   },
   "outputs": [],
   "source": [
    "# Experiment name\n",
    "cur_experiment = 'CELSI  Phantom2'\n",
    "# Experiment timestamp created by CDose camera\n",
    "cur_dataset = '2018-08-09 13-22-18-459'\n",
    "# Base directory for reading and writing data\n",
    "input_dir = '/Users/ethanlarochelle/Notebook Data/Dartmouth/input/Cherenkov/2018_08_09/'\n",
    "output_dir = '/Users/ethanlarochelle/Notebook Data/Dartmouth/output/Cherenkov/2018_08_09'\n",
    "\n",
    "full_input_dir = os.path.join(input_dir, cur_experiment, cur_dataset)\n"
   ]
  },
  {
   "cell_type": "code",
   "execution_count": 4,
   "metadata": {
    "collapsed": false
   },
   "outputs": [
    {
     "name": "stdout",
     "output_type": "stream",
     "text": [
      "600 800 1880\n"
     ]
    }
   ],
   "source": [
    "# Read image data\n",
    "# s1 is Cherenkov\n",
    "# s0 is Background\n",
    "\n",
    "dovi_full_file = os.path.join(full_input_dir, 'meas_s1_cam0.dovi')\n",
    "meta_data = read_dovi(dovi_full_file)\n",
    "settings_file = os.path.join(full_input_dir, 'settings.ini')\n",
    "settings = read_dovi(settings_file)\n",
    "current_full_file = os.path.join(full_input_dir, 'meas_s1_cam0.raw')\n",
    "height = int(meta_data['dims0'])\n",
    "width = int(meta_data['dims1'])\n",
    "z = int(meta_data['dims2'])\n",
    "\n",
    "with open(current_full_file,'rb') as file:\n",
    "    byte_array = numpy.fromfile(current_full_file, dtype='uint16')\n",
    "    print(width,height,z)\n",
    "    reconstructed_im = numpy.reshape(byte_array, [z, width, height])"
   ]
  },
  {
   "cell_type": "code",
   "execution_count": 5,
   "metadata": {
    "collapsed": false
   },
   "outputs": [
    {
     "data": {
      "image/png": "[encoded data removed]",
      "text/plain": [
       "<Figure size 2160x1728 with 2 Axes>"
      ]
     },
     "metadata": {},
     "output_type": "display_data"
    }
   ],
   "source": [
    "# Read previously made mask file and find ROIs\n",
    "# A mask file is just a black and white image (no grayscale)\n",
    "# It is used define specific regions of interest, like wells in a 96-well plate\n",
    "mask_file = '96well_mask.png'\n",
    "mask_im = numpy.fliplr(io.imread(os.path.join(input_dir, mask_file)))\n",
    "mask_bw = mask_im.astype(numpy.bool)\n",
    "\n",
    "# Minimum size of ROI\n",
    "# This isn't entirely needed with a pre-made mask, but it helps in when noise is a problem\n",
    "size_threshold =150\n",
    "\n",
    "# Two subplots, the axes array is 1-d\n",
    "f, axarr = plt.subplots(1,2,figsize=(30,24))\n",
    "i = 0 \n",
    "\n",
    "# label image regions\n",
    "label_image = label(mask_bw)\n",
    "image_label_overlay = label2rgb(label_image, image=mask_bw)\n",
    "\n",
    "# Show labeled mask\n",
    "example_ax = axarr[i].imshow(image_label_overlay)\n",
    "\n",
    "# Identify each ROI in figure\n",
    "for region in regionprops(label_image):\n",
    "    # Only take regions with large enough areas\n",
    "    if region.area >= size_threshold:\n",
    "        # Draw rectangle around segmented ROIs\n",
    "        minr, minc, maxr, maxc = region.bbox\n",
    "        rect = mpatches.Rectangle((minc, minr), maxc - minc, maxr - minr,\n",
    "                                  fill=False, edgecolor='y', linewidth=2)\n",
    "        axarr[i].add_patch(rect)\n",
    "        \n",
    "        # Display label on each region\n",
    "        centroid_y = region.centroid[0]\n",
    "        centroid_x = region.centroid[1]\n",
    "        cur_label = str(region.label)\n",
    "        axarr[i].text(centroid_x, centroid_y, cur_label, size=20, \n",
    "                ha='center', va='center', color='w')\n",
    "\n",
    "axarr[i].set_title('Labeled regions', size=40)\n",
    "\n",
    "axarr[i+1].imshow(mask_im)\n",
    "axarr[i+1].set_title('Original Mask', size=40)\n",
    "\n",
    "#plt.savefig(os.path.join(output_dir, 'Mask_used_for_{}.png'.format(cur_experiment)), bbox_inches='tight')\n",
    "plt.show()"
   ]
  },
  {
   "cell_type": "code",
   "execution_count": 6,
   "metadata": {
    "collapsed": false
   },
   "outputs": [],
   "source": [
    "# Input which ROIs are actually of interest and revise the mask\n",
    "# Somtimes we don't need every ROI, so this provides user ability to choose\n",
    "roi_map = {\n",
    "        1: 'Control',\n",
    "        2: 'Control + G.O.',\n",
    "        3: 'Compound1 + G.O.',\n",
    "        4: 'Compound1',\n",
    "        5: 'Compound2',\n",
    "        6: 'Compound2 + G.O.'\n",
    "    }\n",
    "# Create new mask image array of all zeros\n",
    "revised_mask = numpy.zeros(numpy.shape(mask_bw))\n",
    "for region in regionprops(label_image): \n",
    "    #Only add ROIs in roi_map\n",
    "    if region.label in roi_map.keys():\n",
    "        minr, minc, maxr, maxc = region.bbox\n",
    "        revised_mask[minr:maxr, minc:maxc]=1\n",
    "revised_mask = numpy.logical_and(mask_bw,revised_mask)"
   ]
  },
  {
   "cell_type": "code",
   "execution_count": 7,
   "metadata": {
    "collapsed": false
   },
   "outputs": [],
   "source": [
    "# Loop though all image frames in stack and collect ROI statistics\n",
    "# Store information in pandas DataFrame \n",
    "measurements_df = pandas.DataFrame()\n",
    "j = 0\n",
    "k = 0\n",
    "for j in range(z):\n",
    "    cur_im = reconstructed_im[j,:,:]\n",
    "    for region in regionprops(label_image):\n",
    "        # take regions with large enough areas\n",
    "        if region.area >= size_threshold:\n",
    "            minr, minc, maxr, maxc = region.bbox\n",
    "            min_xy = numpy.round([minc, minr],0).astype('int')\n",
    "            max_xy = numpy.round([maxc, maxr],0).astype('int')\n",
    "            # Find indicies of mask that are not zero\n",
    "            idx = revised_mask[min_xy[1]:max_xy[1], min_xy[0]:max_xy[0]]!=0\n",
    "            roi_im = cur_im[min_xy[1]:max_xy[1], min_xy[0]:max_xy[0]].astype(numpy.float64)\n",
    "            if numpy.size(roi_im[idx])>0:\n",
    "                # Only use the pixel loactions defined by idx to calculate statistics\n",
    "                roi_count = numpy.size(roi_im[idx])\n",
    "                roi_mean = numpy.nanmean(roi_im[idx])\n",
    "                roi_std = numpy.nanstd(roi_im[idx])\n",
    "                roi_median = numpy.nanmedian(roi_im[idx]);\n",
    "                roi_90p = numpy.nanpercentile(roi_im[idx],90)\n",
    "                roi_max = numpy.nanmax(roi_im[idx])\n",
    "                roi_min = numpy.nanmin(roi_im[idx])\n",
    "                #Store measurements for current ROI\n",
    "                roi_stats = {\n",
    "                    'experiment': cur_experiment,\n",
    "                    'series': cur_dataset,\n",
    "                    'exposure': int(settings['ExposureTime']),\n",
    "                    'frame': int(j),\n",
    "                    'roi': str(region.label),\n",
    "                    'label': roi_map[region.label],\n",
    "                    'count': roi_count,\n",
    "                    'mean': roi_mean,\n",
    "                    'std': roi_std,\n",
    "                    'median': roi_median,\n",
    "                    '90p': roi_90p,\n",
    "                    'max': roi_max,\n",
    "                    'min': roi_min\n",
    "                }\n",
    "                # Create dataframe for current data and add index\n",
    "                tmp_df = pandas.DataFrame(data=roi_stats, index=[k])\n",
    "                k+=1\n",
    "                # Append current data to dataframe\n",
    "                measurements_df = measurements_df.append(tmp_df)\n",
    "sorted_measurements_df = measurements_df.sort_values(by=['label', 'frame',]).drop_duplicates()  "
   ]
  },
  {
   "cell_type": "code",
   "execution_count": 8,
   "metadata": {},
   "outputs": [
    {
     "data": {
      "text/html": [
       "<div>\n",
       "<style scoped>\n",
       "    .dataframe tbody tr th:only-of-type {\n",
       "        vertical-align: middle;\n",
       "    }\n",
       "\n",
       "    .dataframe tbody tr th {\n",
       "        vertical-align: top;\n",
       "    }\n",
       "\n",
       "    .dataframe thead th {\n",
       "        text-align: right;\n",
       "    }\n",
       "</style>\n",
       "<table border=\"1\" class=\"dataframe\">\n",
       "  <thead>\n",
       "    <tr style=\"text-align: right;\">\n",
       "      <th></th>\n",
       "      <th>experiment</th>\n",
       "      <th>series</th>\n",
       "      <th>exposure</th>\n",
       "      <th>frame</th>\n",
       "      <th>roi</th>\n",
       "      <th>label</th>\n",
       "      <th>count</th>\n",
       "      <th>mean</th>\n",
       "      <th>std</th>\n",
       "      <th>median</th>\n",
       "      <th>90p</th>\n",
       "      <th>max</th>\n",
       "      <th>min</th>\n",
       "    </tr>\n",
       "  </thead>\n",
       "  <tbody>\n",
       "    <tr>\n",
       "      <th>3</th>\n",
       "      <td>CELSI  Phantom2</td>\n",
       "      <td>2018-08-09 13-22-18-459</td>\n",
       "      <td>9000</td>\n",
       "      <td>0</td>\n",
       "      <td>4</td>\n",
       "      <td>Compound1</td>\n",
       "      <td>553</td>\n",
       "      <td>450.9566</td>\n",
       "      <td>495.527795</td>\n",
       "      <td>355.0</td>\n",
       "      <td>537.2</td>\n",
       "      <td>3638.0</td>\n",
       "      <td>103.0</td>\n",
       "    </tr>\n",
       "  </tbody>\n",
       "</table>\n",
       "</div>"
      ],
      "text/plain": [
       "        experiment                   series  exposure  frame roi      label  \\\n",
       "3  CELSI  Phantom2  2018-08-09 13-22-18-459      9000      0   4  Compound1   \n",
       "\n",
       "   count      mean         std  median    90p     max    min  \n",
       "3    553  450.9566  495.527795   355.0  537.2  3638.0  103.0  "
      ]
     },
     "execution_count": 8,
     "metadata": {},
     "output_type": "execute_result"
    }
   ],
   "source": [
    "sorted_measurements_df.head(1)"
   ]
  },
  {
   "cell_type": "code",
   "execution_count": 9,
   "metadata": {
    "collapsed": true
   },
   "outputs": [],
   "source": [
    "# Create Excel File\n",
    "writer = pandas.ExcelWriter(os.path.join(output_dir,\n",
    "                                         '{}_example_stats.xlsx'.format(cur_experiment)))"
   ]
  },
  {
   "cell_type": "code",
   "execution_count": 10,
   "metadata": {
    "collapsed": false
   },
   "outputs": [],
   "source": [
    "# Write data to excel file in sheet with labeled with exposure time\n",
    "sorted_measurements_df.to_excel(writer, '{}'.format(settings['ExposureTime']))\n",
    "writer.save()"
   ]
  }
 ],
 "metadata": {
  "kernelspec": {
   "display_name": "Python 3",
   "language": "python",
   "name": "python3"
  },
  "language_info": {
   "codemirror_mode": {
    "name": "ipython",
    "version": 3
   },
   "file_extension": ".py",
   "mimetype": "text/x-python",
   "name": "python",
   "nbconvert_exporter": "python",
   "pygments_lexer": "ipython3",
   "version": "3.7.0"
  }
 },
 "nbformat": 4,
 "nbformat_minor": 2
}
