{
 "cells": [
  {
   "cell_type": "code",
   "execution_count": 1,
   "metadata": {
    "collapsed": true
   },
   "outputs": [],
   "source": [
    "import os\n",
    "import pandas\n",
    "import numpy\n",
    "import matplotlib.pyplot as plt\n",
    "%matplotlib inline\n",
    "plt.rcParams[\"font.family\"] = \"Times New Roman\""
   ]
  },
  {
   "cell_type": "code",
   "execution_count": null,
   "metadata": {
    "collapsed": true
   },
   "outputs": [],
   "source": [
    "# Define input and output directories\n",
    "input_dir = '/your/home/directory/for/input/data/Box Plot example'\n",
    "output_dir = '/a/place/for/your/output/Box Plot example'"
   ]
  },
  {
   "cell_type": "code",
   "execution_count": null,
   "metadata": {
    "collapsed": false
   },
   "outputs": [],
   "source": [
    "#example_file = os.path.join(input_dir, 'Some Data File.xlsx')\n",
    "#xls_example = pandas.ExcelFile(example_file)\n",
    "#df_excel = xls_example.parse('Sheet 1')\n",
    "group1 = numpy.array([29.4,24.7, 26.6, 18.5, 23.4, 24.1, 20.4, 20.7, 16.9, 25.9, 20.1, 16.0])\n",
    "group2 = numpy.array([33.8, 30.7, 19.2, 26.7, 27.8, 29.3, 37.4, 27.5, 30.3, 23.3, 28.0, 32.5])"
   ]
  },
  {
   "cell_type": "code",
   "execution_count": null,
   "metadata": {},
   "outputs": [],
   "source": [
    "data_labels = ['Group 1', 'Group 2']\n",
    "data = [group1, group2]\n",
    "medians = [numpy.nanmedian(group1), numpy.nanmedian(group2)]\n",
    "all_max = numpy.nanmax(numpy.nanmax([group1, group2]))\n",
    "num_by_group = [ len(group1), len(group2)]"
   ]
  },
  {
   "cell_type": "code",
   "execution_count": null,
   "metadata": {
    "collapsed": false
   },
   "outputs": [],
   "source": [
    "fig, ax = plt.subplots(figsize=(10, 10))\n",
    "\n",
    "numBoxes = len(data)\n",
    "bp = plt.boxplot(data, notch=0, sym='+')\n",
    "plt.setp(bp['boxes'], color='black', lw=2)\n",
    "plt.setp(bp['whiskers'], color='black', lw=1)\n",
    "plt.setp(bp['fliers'], color='r', marker='o')\n",
    "plt.setp(bp['medians'], color='b', lw=2)\n",
    "plt.scatter(numpy.ones(len(group1)), group1, s=35, color='gray')\n",
    "plt.scatter(numpy.ones(len(group2))+1, group2.clip(0), s=35, color='gray')\n",
    "\n",
    "\n",
    "# Set the axes ranges and axes labels\n",
    "ax.set_xlim(0.5, numBoxes + 0.5)\n",
    "top = 1.4*all_max\n",
    "bottom = 0\n",
    "ax.set_ylim(bottom, top)\n",
    "xtickNames = plt.setp(ax, xticklabels=data_labels)\n",
    "plt.setp(xtickNames, rotation=0, fontsize=20)\n",
    "\n",
    "# Due to the Y-axis scale being different across samples, it can be\n",
    "# hard to compare differences in medians across the samples. Add upper\n",
    "# X-axis tick labels with the sample medians to aid in comparison\n",
    "# (just use two decimal places of precision)\n",
    "pos = numpy.arange(numBoxes) + 1\n",
    "upperLabels = ['{:0.1f}'.format(s) for s in medians]\n",
    "\n",
    "weights = ['bold', 'semibold']\n",
    "for tick, label in zip(range(numBoxes), ax.get_xticklabels()):\n",
    "    k = tick % 2\n",
    "    ax.text(pos[tick], top*0.85, '{}\\n({})'.format(upperLabels[tick],num_by_group[tick]),\n",
    "             horizontalalignment='center', size=40, weight='bold',\n",
    "             color='k')\n",
    "\n",
    "# Add a horizontal grid to the plot, but make it very light in color\n",
    "# so we can use it for reading data values but not be distracting\n",
    "ax.yaxis.grid(True, linestyle='-', which='major', color='lightgrey',\n",
    "               alpha=0.5)\n",
    "\n",
    "# Hide these grid behind plot objects\n",
    "ax.set_axisbelow(True)\n",
    "\n",
    "ax.set_ylabel('$\\\\tau$ ($\\mu$s)',size=35)\n",
    "ax.tick_params(axis='x', labelsize=35)\n",
    "ax.tick_params(axis='y', labelsize=35)\n",
    "#plt.savefig(os.path.join(output_dir, 'Example_Box_Plot_With_Scatter.png'), bbox_inches='tight')\n",
    "plt.show()"
   ]
  },
  {
   "cell_type": "code",
   "execution_count": null,
   "metadata": {},
   "outputs": [],
   "source": [
    "fig, ax = plt.subplots(figsize=(10, 10))\n",
    "\n",
    "numBoxes = len(data)\n",
    "plt.violinplot(data, showmedians=True, showextrema=False)\n",
    "bp = plt.boxplot(data, notch=0, sym='+')\n",
    "plt.setp(bp['boxes'], color='black', lw=2)\n",
    "plt.setp(bp['whiskers'], color='black', lw=1)\n",
    "plt.setp(bp['fliers'], color='r', marker='o')\n",
    "\n",
    "\n",
    "# Set the axes ranges and axes labels\n",
    "ax.set_xlim(0.5, numBoxes + 0.5)\n",
    "top = 1.4*all_max\n",
    "bottom = 0\n",
    "ax.set_ylim(bottom, top)\n",
    "xtickNames = plt.setp(ax, xticklabels=data_labels)\n",
    "plt.setp(xtickNames, rotation=0, fontsize=20)\n",
    "\n",
    "# Due to the Y-axis scale being different across samples, it can be\n",
    "# hard to compare differences in medians across the samples. Add upper\n",
    "# X-axis tick labels with the sample medians to aid in comparison\n",
    "# (just use two decimal places of precision)\n",
    "pos = numpy.arange(numBoxes) + 1\n",
    "upperLabels = ['{:0.1f}'.format(s) for s in medians]\n",
    "\n",
    "weights = ['bold', 'semibold']\n",
    "for tick, label in zip(range(numBoxes), ax.get_xticklabels()):\n",
    "    k = tick % 2\n",
    "    ax.text(pos[tick], top*0.85, '{}\\n({})'.format(upperLabels[tick],num_by_group[tick]),\n",
    "             horizontalalignment='center', size=40, weight='bold',\n",
    "             color='k')\n",
    "\n",
    "# Add a horizontal grid to the plot, but make it very light in color\n",
    "# so we can use it for reading data values but not be distracting\n",
    "ax.yaxis.grid(True, linestyle='-', which='major', color='lightgrey',\n",
    "               alpha=0.5)\n",
    "\n",
    "# Hide these grid behind plot objects\n",
    "ax.set_axisbelow(True)\n",
    "\n",
    "ax.set_ylabel('$\\\\tau$ ($\\mu$s)',size=35)\n",
    "ax.tick_params(axis='x', labelsize=35)\n",
    "ax.tick_params(axis='y', labelsize=35)\n",
    "#plt.savefig(os.path.join(output_dir, 'Example_Box_Plot_With_Violin.png'), bbox_inches='tight')\n",
    "plt.show()"
   ]
  },
  {
   "cell_type": "code",
   "execution_count": null,
   "metadata": {},
   "outputs": [],
   "source": []
  }
 ],
 "metadata": {
  "kernelspec": {
   "display_name": "Python 3",
   "language": "python",
   "name": "python3"
  },
  "language_info": {
   "codemirror_mode": {
    "name": "ipython",
    "version": 3
   },
   "file_extension": ".py",
   "mimetype": "text/x-python",
   "name": "python",
   "nbconvert_exporter": "python",
   "pygments_lexer": "ipython3",
   "version": "3.7.0"
  }
 },
 "nbformat": 4,
 "nbformat_minor": 2
}
